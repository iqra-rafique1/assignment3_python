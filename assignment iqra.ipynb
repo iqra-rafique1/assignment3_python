{
 "cells": [
  {
   "cell_type": "code",
   "execution_count": 1,
   "id": "91c08bcf",
   "metadata": {},
   "outputs": [
    {
     "name": "stdout",
     "output_type": "stream",
     "text": [
      "Twinkle, twinkle, little star, \n",
      "\t How I wonder what you are! \n",
      "\t\tUp above the world so high, \n",
      "\t\tLike a diamond in the sky. \n",
      "Twinkle, twinkle, little star, \n",
      "\t How I wonder what you are\n"
     ]
    }
   ],
   "source": [
    "#ASSIGMENT 3 BY IQRA RAFIQUE\n",
    "\"\"\"1. Write a Python program to print the following string in a specific format (see the output). \n",
    "Twinkle, twinkle, little star, \n",
    "    How I wonder what you are! \n",
    "        Up above the world so high, \n",
    "        Like a diamond in the sky. \n",
    "Twinkle, twinkle, little star, \n",
    "  How I wonder what you are\"\"\"\n",
    "\n",
    "print(\"Twinkle, twinkle, little star, \\n\\t How I wonder what you are! \\n\\t\\tUp above the world so high, \\n\\t\\tLike a diamond in the sky. \\nTwinkle, twinkle, little star, \\n\\t How I wonder what you are\")"
   ]
  },
  {
   "cell_type": "code",
   "execution_count": 2,
   "id": "7ea19bf0",
   "metadata": {},
   "outputs": [
    {
     "name": "stdout",
     "output_type": "stream",
     "text": [
      "python version\n",
      "3.8.8 (default, Apr 13 2021, 15:08:03) [MSC v.1916 64 bit (AMD64)]\n",
      "version info\n",
      "sys.version_info(major=3, minor=8, micro=8, releaselevel='final', serial=0)\n"
     ]
    }
   ],
   "source": [
    "#2. Write a Python program to get the Python version you are using.\n",
    "\n",
    "import sys\n",
    "print(\"python version\")\n",
    "print(sys.version)\n",
    "print(\"version info\")\n",
    "print(sys.version_info)"
   ]
  },
  {
   "cell_type": "code",
   "execution_count": 3,
   "id": "758fa70a",
   "metadata": {},
   "outputs": [
    {
     "name": "stdout",
     "output_type": "stream",
     "text": [
      "Current Date & Time is : \n",
      "23-10-2021 23:12:50\n"
     ]
    }
   ],
   "source": [
    "#3. Write a Python program to display the current date and time.\n",
    "\n",
    "import datetime\n",
    "now = datetime.datetime.now()\n",
    "print (\"Current Date & Time is : \")\n",
    "print (now.strftime(\"%d-%m-%Y %H:%M:%S\"))"
   ]
  },
  {
   "cell_type": "code",
   "execution_count": 4,
   "id": "53aaa446",
   "metadata": {},
   "outputs": [
    {
     "name": "stdout",
     "output_type": "stream",
     "text": [
      "Enter the radius of circle : 3\n",
      "The Area of the circle is: 28.274333882308138\n"
     ]
    }
   ],
   "source": [
    "#4. Write a Python program which accepts the radius of a circle from the user and compute the area.\n",
    "\n",
    "from math import pi\n",
    "r = float(input (\"Enter the radius of circle : \"))\n",
    "print (\"The Area of the circle is: \" + str(pi * r**2))"
   ]
  },
  {
   "cell_type": "code",
   "execution_count": 5,
   "id": "b77d3328",
   "metadata": {},
   "outputs": [
    {
     "name": "stdout",
     "output_type": "stream",
     "text": [
      "Enter First Name : ee\n",
      "Enter Last Name : uu\n",
      "Reverse order: uu ee\n"
     ]
    }
   ],
   "source": [
    "#5. Write a Python program which accepts the user's first and last name and print them in reverse order with a space between them.\n",
    "\n",
    "first_Name = input(\"Enter First Name : \")\n",
    "last_Name = input(\"Enter Last Name : \")\n",
    "print (\"Reverse order: \" + last_Name + \" \" + first_Name)"
   ]
  },
  {
   "cell_type": "code",
   "execution_count": 6,
   "id": "6fb30c9c",
   "metadata": {},
   "outputs": [
    {
     "name": "stdout",
     "output_type": "stream",
     "text": [
      "enter first number: 2\n",
      "enter second number: 2\n",
      "sum : 4\n"
     ]
    }
   ],
   "source": [
    "# 6. Write a python program which takes two inputs from user and print them addition.\n",
    "\n",
    "i= int(input(\"enter first number: \"))\n",
    "j = int(input(\"enter second number: \"))\n",
    "sum = i + j\n",
    "print(\"sum :\", sum)"
   ]
  },
  {
   "cell_type": "code",
   "execution_count": 8,
   "id": "c7cb60bb",
   "metadata": {},
   "outputs": [
    {
     "name": "stdout",
     "output_type": "stream",
     "text": [
      "************************************\n",
      "         STUDENT MARKSHEET \n",
      "************************************\n",
      "         Name : IQRA RAFIQUE\n",
      "         Father Name : MUHAMMAD RAFIQUE\n",
      "         Roll no : JP11808\n",
      "**********************************\n",
      "Subject         obtained_Marks    \n",
      "**********************************\n",
      "chemistry : \t\t45\n",
      "physics : \t\t454\n",
      "Mathematics : \t\t33\n",
      "english : \t\t33\n",
      "urdu : \t\t\t33\n",
      "************************************\n",
      "TOTAL MARKS IS OUT OF 500 is: 598\n",
      "The Percentage is: 119.6 %\n",
      "failed!!!!\n",
      "THE GRADE IS F\n",
      "Remark : need hardwork.....\n"
     ]
    }
   ],
   "source": [
    "#7. Write a program which takes 5 inputs from user for different subject’s marks, total it and generate mark sheet using grades? \n",
    "print(\"************************************\");\n",
    "print(\"         STUDENT MARKSHEET \");\n",
    "print(\"************************************\");\n",
    "print(\"         Name : IQRA RAFIQUE\");\n",
    "print(\"         Father Name : MUHAMMAD RAFIQUE\");\n",
    "print(\"         Roll no : JP11808\");\n",
    "\n",
    "\n",
    "print(\"**********************************\");\n",
    "print(\"Subject         obtained_Marks    \");\n",
    "print(\"**********************************\");\n",
    "\n",
    "chemistry = int(input(\"chemistry : \\t\\t\"))\n",
    "physics = int(input(\"physics : \\t\\t\"))\n",
    "Mathematics = int(input(\"Mathematics : \\t\\t\"))\n",
    "english = int(input(\"english : \\t\\t\"))\n",
    "urdu = int(input(\"urdu : \\t\\t\\t\"))\n",
    "print(\"************************************\");\n",
    "\n",
    "total_Marks= 500;\n",
    "total = chemistry + physics + Mathematics + english + urdu;\n",
    "print (\"TOTAL MARKS IS OUT OF 500 is:\",total);\n",
    "\n",
    "percentage = (chemistry + physics + Mathematics + english +urdu)/500 * 100;\n",
    "print (\"The Percentage is:\" , percentage,\"%\")\n",
    "\n",
    "\n",
    "if percentage < 100 and percentage >= 80:\n",
    "    print(\"THE GRADE IS A+\");\n",
    "    print(\"Remark : EXCELLENT RESULT...!\");\n",
    "elif percentage < 80 and percentage >= 70:\n",
    "    print(\"THE GRADE IS A\");\n",
    "    print(\"Remark : GOOD, keep it up\");\n",
    "elif percentage < 70 and percentage >= 60:\n",
    "    print(\"THE GRADE IS B\");\n",
    "    print(\"Remark : keep it up\");\n",
    "elif percentage < 60 and percentage >= 50:\n",
    "    print(\"THE GRADE IS C\");\n",
    "    print(\"Remark : keep it up\");\n",
    "elif percentage < 50 and percentage >= 40:\n",
    "    print(\"THE GRADE IS D\");\n",
    "    print(\"Remark: keep it up\");\n",
    "elif percentage < 40 and percentage >= 33:\n",
    "    print(\"THE GRADE IS E\");\n",
    "    print(\"Remark : keep it up\");\n",
    "else:\n",
    "    print(\"failed!!!!\");\n",
    "    print(\"THE GRADE IS F\");\n",
    "    print(\"Remark : need hardwork.....\");\n"
   ]
  },
  {
   "cell_type": "code",
   "execution_count": 9,
   "id": "1b4d62ec",
   "metadata": {},
   "outputs": [
    {
     "name": "stdout",
     "output_type": "stream",
     "text": [
      "Enter a number: 45\n",
      "This is an odd number\n"
     ]
    }
   ],
   "source": [
    "#8. Write a program which take input from user and identify that the given number is even or odd?\n",
    "number = int(input(\"Enter a number: \"))\n",
    "mod = number % 2\n",
    "if mod > 0:\n",
    "    print(\"This is an odd number\")\n",
    "else:\n",
    "    print(\"This is an even number\")"
   ]
  },
  {
   "cell_type": "code",
   "execution_count": 10,
   "id": "ccc372d1",
   "metadata": {},
   "outputs": [
    {
     "name": "stdout",
     "output_type": "stream",
     "text": [
      "6\n"
     ]
    }
   ],
   "source": [
    "#9. Write a program which print the length of the list?\n",
    "\n",
    "arr = ['c','c++','python','assembly lanuage','java','javascript']\n",
    "length = len(arr)\n",
    "print (length)"
   ]
  },
  {
   "cell_type": "code",
   "execution_count": 20,
   "id": "63ce7b7d",
   "metadata": {},
   "outputs": [
    {
     "ename": "TypeError",
     "evalue": "'int' object is not callable",
     "output_type": "error",
     "traceback": [
      "\u001b[1;31m---------------------------------------------------------------------------\u001b[0m",
      "\u001b[1;31mTypeError\u001b[0m                                 Traceback (most recent call last)",
      "\u001b[1;32m<ipython-input-20-1b1c3e34a876>\u001b[0m in \u001b[0;36m<module>\u001b[1;34m\u001b[0m\n\u001b[0;32m      2\u001b[0m \u001b[1;33m\u001b[0m\u001b[0m\n\u001b[0;32m      3\u001b[0m \u001b[0marr\u001b[0m \u001b[1;33m=\u001b[0m \u001b[1;33m[\u001b[0m\u001b[1;36m8\u001b[0m\u001b[1;33m,\u001b[0m\u001b[1;36m6\u001b[0m\u001b[1;33m,\u001b[0m\u001b[1;36m18\u001b[0m\u001b[1;33m,\u001b[0m\u001b[1;36m23\u001b[0m\u001b[1;33m,\u001b[0m\u001b[1;36m65\u001b[0m\u001b[1;33m,\u001b[0m\u001b[1;36m20\u001b[0m\u001b[1;33m,\u001b[0m\u001b[1;36m11\u001b[0m\u001b[1;33m]\u001b[0m\u001b[1;33m\u001b[0m\u001b[1;33m\u001b[0m\u001b[0m\n\u001b[1;32m----> 4\u001b[1;33m \u001b[0mprint\u001b[0m \u001b[1;33m(\u001b[0m\u001b[0msum\u001b[0m\u001b[1;33m(\u001b[0m\u001b[0marr\u001b[0m\u001b[1;33m)\u001b[0m\u001b[1;33m)\u001b[0m\u001b[1;33m\u001b[0m\u001b[1;33m\u001b[0m\u001b[0m\n\u001b[0m",
      "\u001b[1;31mTypeError\u001b[0m: 'int' object is not callable"
     ]
    }
   ],
   "source": [
    "#10. Write a Python program to sum all the numeric items in a list?\n",
    "\n",
    "arr = [8,6,18,23,65,20,11]\n",
    "print (sum(arr))"
   ]
  },
  {
   "cell_type": "code",
   "execution_count": 15,
   "id": "6d898bc7",
   "metadata": {},
   "outputs": [
    {
     "name": "stdout",
     "output_type": "stream",
     "text": [
      "Largest number from a numeric list is: 100\n"
     ]
    }
   ],
   "source": [
    "#11. Write a Python program to get the largest number from a numeric list.\n",
    "\n",
    "largestnumber = [47, 100, 44, 56, 89]\n",
    "largestnumber.sort()\n",
    "print(\"Largest number from a numeric list is:\", largestnumber[-1])"
   ]
  },
  {
   "cell_type": "code",
   "execution_count": 16,
   "id": "67a6eba1",
   "metadata": {},
   "outputs": [
    {
     "name": "stdout",
     "output_type": "stream",
     "text": [
      "1\n",
      "1\n",
      "2\n",
      "3\n",
      "3\n",
      "2\n"
     ]
    }
   ],
   "source": [
    "#12. Take a list, say for example this one: \n",
    "     # a = [1, 1, 2, 3, 5, 8, 13, 21, 34, 55, 89]\n",
    "    #Write a program that prints out all the elements of the list that are less than 5.\n",
    "    \n",
    "arr = [1, 1, 2, 3, 5, 8, 13, 21, 3, 8, 2]\n",
    "for i in arr:\n",
    "    if i < 5:\n",
    "        print(i)"
   ]
  },
  {
   "cell_type": "code",
   "execution_count": 21,
   "id": "80e0529a",
   "metadata": {},
   "outputs": [
    {
     "ename": "TypeError",
     "evalue": "'int' object is not callable",
     "output_type": "error",
     "traceback": [
      "\u001b[1;31m---------------------------------------------------------------------------\u001b[0m",
      "\u001b[1;31mTypeError\u001b[0m                                 Traceback (most recent call last)",
      "\u001b[1;32m<ipython-input-21-1b1c3e34a876>\u001b[0m in \u001b[0;36m<module>\u001b[1;34m\u001b[0m\n\u001b[0;32m      2\u001b[0m \u001b[1;33m\u001b[0m\u001b[0m\n\u001b[0;32m      3\u001b[0m \u001b[0marr\u001b[0m \u001b[1;33m=\u001b[0m \u001b[1;33m[\u001b[0m\u001b[1;36m8\u001b[0m\u001b[1;33m,\u001b[0m\u001b[1;36m6\u001b[0m\u001b[1;33m,\u001b[0m\u001b[1;36m18\u001b[0m\u001b[1;33m,\u001b[0m\u001b[1;36m23\u001b[0m\u001b[1;33m,\u001b[0m\u001b[1;36m65\u001b[0m\u001b[1;33m,\u001b[0m\u001b[1;36m20\u001b[0m\u001b[1;33m,\u001b[0m\u001b[1;36m11\u001b[0m\u001b[1;33m]\u001b[0m\u001b[1;33m\u001b[0m\u001b[1;33m\u001b[0m\u001b[0m\n\u001b[1;32m----> 4\u001b[1;33m \u001b[0mprint\u001b[0m \u001b[1;33m(\u001b[0m\u001b[0msum\u001b[0m\u001b[1;33m(\u001b[0m\u001b[0marr\u001b[0m\u001b[1;33m)\u001b[0m\u001b[1;33m)\u001b[0m\u001b[1;33m\u001b[0m\u001b[1;33m\u001b[0m\u001b[0m\n\u001b[0m",
      "\u001b[1;31mTypeError\u001b[0m: 'int' object is not callable"
     ]
    }
   ],
   "source": []
  },
  {
   "cell_type": "code",
   "execution_count": null,
   "id": "c5d39baf",
   "metadata": {},
   "outputs": [],
   "source": []
  }
 ],
 "metadata": {
  "kernelspec": {
   "display_name": "Python 3",
   "language": "python",
   "name": "python3"
  },
  "language_info": {
   "codemirror_mode": {
    "name": "ipython",
    "version": 3
   },
   "file_extension": ".py",
   "mimetype": "text/x-python",
   "name": "python",
   "nbconvert_exporter": "python",
   "pygments_lexer": "ipython3",
   "version": "3.8.8"
  }
 },
 "nbformat": 4,
 "nbformat_minor": 5
}
